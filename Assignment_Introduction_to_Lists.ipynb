{
  "nbformat": 4,
  "nbformat_minor": 0,
  "metadata": {
    "kernelspec": {
      "display_name": "Python 3",
      "language": "python",
      "name": "python3"
    },
    "language_info": {
      "codemirror_mode": {
        "name": "ipython",
        "version": 3
      },
      "file_extension": ".py",
      "mimetype": "text/x-python",
      "name": "python",
      "nbconvert_exporter": "python",
      "pygments_lexer": "ipython3",
      "version": "3.7.4"
    },
    "colab": {
      "name": "Assignment - Introduction to Lists.ipynb",
      "provenance": [],
      "collapsed_sections": [],
      "include_colab_link": true
    }
  },
  "cells": [
    {
      "cell_type": "markdown",
      "metadata": {
        "id": "view-in-github",
        "colab_type": "text"
      },
      "source": [
        "<a href=\"https://colab.research.google.com/github/anuragsaini2472002/DataScience_assignments-/blob/main/Assignment_Introduction_to_Lists.ipynb\" target=\"_parent\"><img src=\"https://colab.research.google.com/assets/colab-badge.svg\" alt=\"Open In Colab\"/></a>"
      ]
    },
    {
      "cell_type": "markdown",
      "metadata": {
        "id": "t4O7WDUFjkFq"
      },
      "source": [
        "## <u>While doing this assignment only use those concepts which have been taught till now</u>"
      ]
    },
    {
      "cell_type": "markdown",
      "metadata": {
        "id": "KB9ZI2xAjkF6"
      },
      "source": [
        "## <u>Problem 1</u>\n",
        "\n",
        "A list contains the average daily temperature(in degree Celsius) of a city over a particular week. Write a Python code to swap the highest and the lowest temperatures"
      ]
    },
    {
      "cell_type": "code",
      "metadata": {
        "id": "O3ZtUcxsjkF7"
      },
      "source": [
        "# A list containing average daily temperature over a week \n",
        "temperatures = [34, 40, 29, 33, 42, 37, 39 ]\n",
        "\n",
        "# The expected output \n",
        "# output_temperatures = [34, 40, 42, 33, 29, 37, 39]"
      ],
      "execution_count": 5,
      "outputs": []
    },
    {
      "cell_type": "code",
      "metadata": {
        "id": "HRFHv7OXjkGR"
      },
      "source": [
        "# Store the highest temperature\n",
        "max_temp = max(temperatures)\n",
        "\n",
        "# Index of the element with the highest temperature\n",
        "max_temp_index = temperatures.index(max_temp)"
      ],
      "execution_count": 6,
      "outputs": []
    },
    {
      "cell_type": "code",
      "metadata": {
        "id": "8lsfVKbcjkGW"
      },
      "source": [
        "# Store the lowest temperature \n",
        "min_temp = min(temperatures)\n",
        "\n",
        "# Index of the element with the lowest temperature\n",
        "min_temp_index =temperatures.index(min_temp)"
      ],
      "execution_count": 7,
      "outputs": []
    },
    {
      "cell_type": "code",
      "metadata": {
        "id": "W8UkX2IHjkGc"
      },
      "source": [
        "# Swap the highest and the lowest temperatures\n",
        "max_temp, min_temp = min_temp, max_temp\n"
      ],
      "execution_count": 8,
      "outputs": []
    },
    {
      "cell_type": "code",
      "metadata": {
        "id": "2UpeOQ7qjkGg",
        "colab": {
          "base_uri": "https://localhost:8080/"
        },
        "outputId": "223cbac8-d169-4a61-ab5b-7ba271dbb976"
      },
      "source": [
        "# Print the output list\n",
        "temperatures"
      ],
      "execution_count": 9,
      "outputs": [
        {
          "output_type": "execute_result",
          "data": {
            "text/plain": [
              "[34, 40, 29, 33, 42, 37, 39]"
            ]
          },
          "metadata": {},
          "execution_count": 9
        }
      ]
    },
    {
      "cell_type": "markdown",
      "metadata": {
        "id": "zxqe73yrjkGi"
      },
      "source": [
        "\n",
        "## <u>Problem 2 </u>\n",
        "\n",
        "### Measures of Averages\n",
        "\n",
        "* Mean of a group is defined as the sum of the elements in the group divided by the number of elements in the group.\n",
        "* Median is the middle number in a <b>sorted</b>, ascending or descending, list of numbers. If the list has $N$ numbers where $N$ is odd, then median is the element in the middle i.e, $(\\frac{N+1}{2})^{th}$ element. If $N$ is even, then median is the mean of $(\\frac{N}{2})^{th}$ and $(\\frac{N}{2}+1)^{th}$ elements"
      ]
    },
    {
      "cell_type": "code",
      "metadata": {
        "id": "TNWp2uyVjkGi"
      },
      "source": [
        "# List of product prices\n",
        "\n",
        "prod_price_list = [400, 250, 800, 550, 600, 820, 720, 15000, 360,250]"
      ],
      "execution_count": 10,
      "outputs": []
    },
    {
      "cell_type": "code",
      "metadata": {
        "id": "KwenpH43jkGm",
        "colab": {
          "base_uri": "https://localhost:8080/"
        },
        "outputId": "4ca5d4fc-346f-4222-db34-3abe1918064c"
      },
      "source": [
        "# Calculate the mean of the product prices. Use list functions. Also print the mean_price\n",
        "n = len(prod_price_list)\n",
        "mean_price = sum(prod_price_list)/n\n",
        "print(mean_price)"
      ],
      "execution_count": 11,
      "outputs": [
        {
          "output_type": "stream",
          "name": "stdout",
          "text": [
            "1975.0\n"
          ]
        }
      ]
    },
    {
      "cell_type": "markdown",
      "metadata": {
        "id": "gTojysiqjkGr"
      },
      "source": [
        "### Calculate the median price"
      ]
    },
    {
      "cell_type": "code",
      "metadata": {
        "id": "5SBpWBGEjkGr"
      },
      "source": [
        "# Step 1 - Obtain the sorted list. Print the sorted_prices\n",
        "sorted_prices = prod_price_list.sort()"
      ],
      "execution_count": 12,
      "outputs": []
    },
    {
      "cell_type": "code",
      "metadata": {
        "id": "29eoJETXjkGu",
        "colab": {
          "base_uri": "https://localhost:8080/"
        },
        "outputId": "8542cba3-711d-433a-c3cf-2a6f6689fada"
      },
      "source": [
        "# Check if the number of elements in the list is even or odd\n",
        "n = len(prod_price_list)\n",
        "if n%2==0:\n",
        "  print(\"Even\")\n",
        "else:\n",
        "  print(\"Odd\")\n"
      ],
      "execution_count": 53,
      "outputs": [
        {
          "output_type": "stream",
          "name": "stdout",
          "text": [
            "Even\n"
          ]
        }
      ]
    },
    {
      "cell_type": "code",
      "metadata": {
        "id": "RiafM7R_jkGy",
        "colab": {
          "base_uri": "https://localhost:8080/"
        },
        "outputId": "945042b6-d318-42df-a512-1ef7857c38a1"
      },
      "source": [
        "# Use the corresponding formula to calculate the median and print the median\n",
        "if n%2==0:\n",
        "  median_price = (n+1)/2\n",
        "else:\n",
        "  median_price = n/2 \n",
        "print(median_price)"
      ],
      "execution_count": 56,
      "outputs": [
        {
          "output_type": "stream",
          "name": "stdout",
          "text": [
            "5.5\n"
          ]
        }
      ]
    },
    {
      "cell_type": "code",
      "metadata": {
        "id": "brysk47ojkG0",
        "colab": {
          "base_uri": "https://localhost:8080/"
        },
        "outputId": "9fc296a2-1b05-4485-b52e-9dd55a483a71"
      },
      "source": [
        "# Check which is greater, mean or median\n",
        "if mean_price>median_price:\n",
        "  print(mean_price)\n",
        "else:\n",
        "  print(median_price)"
      ],
      "execution_count": 58,
      "outputs": [
        {
          "output_type": "stream",
          "name": "stdout",
          "text": [
            "1975.0\n"
          ]
        }
      ]
    },
    {
      "cell_type": "markdown",
      "metadata": {
        "id": "jB0y0UdbjkG3"
      },
      "source": [
        "### Why do you think that is the case??"
      ]
    },
    {
      "cell_type": "markdown",
      "metadata": {
        "id": "_JguWGM_-_ST"
      },
      "source": [
        "### <u>Write your explanation in this text cell</u>\n",
        "\n",
        "Your explanation :  "
      ]
    },
    {
      "cell_type": "markdown",
      "metadata": {
        "id": "J3x3tmzTjkG3"
      },
      "source": [
        "## <u> Problem 3 </u>\n",
        "\n",
        "Having a nested list sometimes might be a bit problematic. An individual was asked to collect the names of companies in the technology sector. While creating the list, by mistake the last three companies were subsumed in a list as shown below. You are required to get rid of the nesting"
      ]
    },
    {
      "cell_type": "code",
      "metadata": {
        "id": "6IbY26WqjkG4"
      },
      "source": [
        "# The list of tech companies curated by the individual\n",
        "tech_companies = ['Qualcomm','Google','Apple',['Nvidia','Cisco','Samsung']]\n",
        "\n",
        "# The final list that we want\n",
        "# correct_tech_companies = ['Qualcomm','Google','Apple','Nvidia','Cisco','Samsung']"
      ],
      "execution_count": 51,
      "outputs": []
    },
    {
      "cell_type": "code",
      "metadata": {
        "id": "anVH03bTjkG7",
        "colab": {
          "base_uri": "https://localhost:8080/"
        },
        "outputId": "c4921a4d-297d-4c5d-c371-6edc81ca8409"
      },
      "source": [
        "# Write your code below\n",
        "newList = tech_companies[:3]\n",
        "tech_companies = newList.extend(tech_companies[3])\n",
        "print(newList)"
      ],
      "execution_count": 26,
      "outputs": [
        {
          "output_type": "stream",
          "name": "stdout",
          "text": [
            "['Qualcomm', 'Google', 'Apple', 'Nvidia', 'Cisco', 'Samsung']\n"
          ]
        }
      ]
    },
    {
      "cell_type": "code",
      "metadata": {
        "id": "BsVsotOGjkG_",
        "colab": {
          "base_uri": "https://localhost:8080/"
        },
        "outputId": "08200709-6e0f-415f-9b47-f612e0a482a5"
      },
      "source": [
        "# Do the same task another way\n",
        "tech_companies.pop()\n",
        "tech_companies.extend(['Nvidia','Cisco','Samsung'])\n",
        "tech_companies"
      ],
      "execution_count": 52,
      "outputs": [
        {
          "output_type": "execute_result",
          "data": {
            "text/plain": [
              "['Qualcomm', 'Google', 'Apple', 'Nvidia', 'Cisco', 'Samsung']"
            ]
          },
          "metadata": {},
          "execution_count": 52
        }
      ]
    },
    {
      "cell_type": "code",
      "source": [
        ""
      ],
      "metadata": {
        "id": "067KSmsn05O0"
      },
      "execution_count": null,
      "outputs": []
    }
  ]
}